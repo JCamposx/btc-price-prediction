{
 "cells": [
  {
   "cell_type": "code",
   "execution_count": 59,
   "metadata": {},
   "outputs": [],
   "source": [
    "import pandas as pd"
   ]
  },
  {
   "cell_type": "code",
   "execution_count": 60,
   "metadata": {},
   "outputs": [],
   "source": [
    "dataset_posts_path = '../datasets/consolidated/posts.csv'\n",
    "dataset_bitcoin_path = '../datasets/consolidated/bitcoin.csv'\n",
    "\n",
    "data_posts = pd.read_csv(dataset_posts_path)\n",
    "data_bitcoin = pd.read_csv(dataset_bitcoin_path)"
   ]
  },
  {
   "cell_type": "code",
   "execution_count": 61,
   "metadata": {},
   "outputs": [
    {
     "data": {
      "text/html": [
       "<div>\n",
       "<style scoped>\n",
       "    .dataframe tbody tr th:only-of-type {\n",
       "        vertical-align: middle;\n",
       "    }\n",
       "\n",
       "    .dataframe tbody tr th {\n",
       "        vertical-align: top;\n",
       "    }\n",
       "\n",
       "    .dataframe thead th {\n",
       "        text-align: right;\n",
       "    }\n",
       "</style>\n",
       "<table border=\"1\" class=\"dataframe\">\n",
       "  <thead>\n",
       "    <tr style=\"text-align: right;\">\n",
       "      <th></th>\n",
       "      <th>date</th>\n",
       "      <th>sentiment</th>\n",
       "    </tr>\n",
       "  </thead>\n",
       "  <tbody>\n",
       "    <tr>\n",
       "      <th>0</th>\n",
       "      <td>2019-05-26</td>\n",
       "      <td>0.231749</td>\n",
       "    </tr>\n",
       "    <tr>\n",
       "      <th>1</th>\n",
       "      <td>2019-05-27</td>\n",
       "      <td>0.147698</td>\n",
       "    </tr>\n",
       "  </tbody>\n",
       "</table>\n",
       "</div>"
      ],
      "text/plain": [
       "         date  sentiment\n",
       "0  2019-05-26   0.231749\n",
       "1  2019-05-27   0.147698"
      ]
     },
     "execution_count": 61,
     "metadata": {},
     "output_type": "execute_result"
    }
   ],
   "source": [
    "data_posts"
   ]
  },
  {
   "cell_type": "code",
   "execution_count": 62,
   "metadata": {},
   "outputs": [
    {
     "data": {
      "text/html": [
       "<div>\n",
       "<style scoped>\n",
       "    .dataframe tbody tr th:only-of-type {\n",
       "        vertical-align: middle;\n",
       "    }\n",
       "\n",
       "    .dataframe tbody tr th {\n",
       "        vertical-align: top;\n",
       "    }\n",
       "\n",
       "    .dataframe thead th {\n",
       "        text-align: right;\n",
       "    }\n",
       "</style>\n",
       "<table border=\"1\" class=\"dataframe\">\n",
       "  <thead>\n",
       "    <tr style=\"text-align: right;\">\n",
       "      <th></th>\n",
       "      <th>date</th>\n",
       "      <th>open</th>\n",
       "      <th>high</th>\n",
       "      <th>low</th>\n",
       "      <th>volume</th>\n",
       "      <th>close</th>\n",
       "    </tr>\n",
       "  </thead>\n",
       "  <tbody>\n",
       "    <tr>\n",
       "      <th>0</th>\n",
       "      <td>2019-05-26</td>\n",
       "      <td>8029.6</td>\n",
       "      <td>8718.6</td>\n",
       "      <td>7866.5</td>\n",
       "      <td>872118</td>\n",
       "      <td>8630.2</td>\n",
       "    </tr>\n",
       "    <tr>\n",
       "      <th>1</th>\n",
       "      <td>2019-05-27</td>\n",
       "      <td>8628.9</td>\n",
       "      <td>8902.8</td>\n",
       "      <td>8607.3</td>\n",
       "      <td>907961</td>\n",
       "      <td>8760.1</td>\n",
       "    </tr>\n",
       "    <tr>\n",
       "      <th>2</th>\n",
       "      <td>2019-05-28</td>\n",
       "      <td>8759.4</td>\n",
       "      <td>8794.1</td>\n",
       "      <td>8568.8</td>\n",
       "      <td>763203</td>\n",
       "      <td>8716.3</td>\n",
       "    </tr>\n",
       "    <tr>\n",
       "      <th>3</th>\n",
       "      <td>2019-05-29</td>\n",
       "      <td>8715.6</td>\n",
       "      <td>8747.2</td>\n",
       "      <td>8435.3</td>\n",
       "      <td>15429494</td>\n",
       "      <td>8647.8</td>\n",
       "    </tr>\n",
       "    <tr>\n",
       "      <th>4</th>\n",
       "      <td>2019-05-30</td>\n",
       "      <td>8647.8</td>\n",
       "      <td>9045.9</td>\n",
       "      <td>8054.7</td>\n",
       "      <td>1041563</td>\n",
       "      <td>8271.9</td>\n",
       "    </tr>\n",
       "  </tbody>\n",
       "</table>\n",
       "</div>"
      ],
      "text/plain": [
       "         date    open    high     low    volume   close\n",
       "0  2019-05-26  8029.6  8718.6  7866.5    872118  8630.2\n",
       "1  2019-05-27  8628.9  8902.8  8607.3    907961  8760.1\n",
       "2  2019-05-28  8759.4  8794.1  8568.8    763203  8716.3\n",
       "3  2019-05-29  8715.6  8747.2  8435.3  15429494  8647.8\n",
       "4  2019-05-30  8647.8  9045.9  8054.7   1041563  8271.9"
      ]
     },
     "execution_count": 62,
     "metadata": {},
     "output_type": "execute_result"
    }
   ],
   "source": [
    "data_bitcoin"
   ]
  },
  {
   "cell_type": "code",
   "execution_count": 63,
   "metadata": {},
   "outputs": [
    {
     "data": {
      "text/html": [
       "<div>\n",
       "<style scoped>\n",
       "    .dataframe tbody tr th:only-of-type {\n",
       "        vertical-align: middle;\n",
       "    }\n",
       "\n",
       "    .dataframe tbody tr th {\n",
       "        vertical-align: top;\n",
       "    }\n",
       "\n",
       "    .dataframe thead th {\n",
       "        text-align: right;\n",
       "    }\n",
       "</style>\n",
       "<table border=\"1\" class=\"dataframe\">\n",
       "  <thead>\n",
       "    <tr style=\"text-align: right;\">\n",
       "      <th></th>\n",
       "      <th>date</th>\n",
       "      <th>sentiment</th>\n",
       "      <th>open</th>\n",
       "      <th>high</th>\n",
       "      <th>low</th>\n",
       "      <th>volume</th>\n",
       "      <th>close</th>\n",
       "    </tr>\n",
       "  </thead>\n",
       "  <tbody>\n",
       "    <tr>\n",
       "      <th>0</th>\n",
       "      <td>2019-05-26</td>\n",
       "      <td>0.231749</td>\n",
       "      <td>8029.6</td>\n",
       "      <td>8718.6</td>\n",
       "      <td>7866.5</td>\n",
       "      <td>872118</td>\n",
       "      <td>8647.8</td>\n",
       "    </tr>\n",
       "    <tr>\n",
       "      <th>1</th>\n",
       "      <td>2019-05-27</td>\n",
       "      <td>0.147698</td>\n",
       "      <td>8628.9</td>\n",
       "      <td>8902.8</td>\n",
       "      <td>8607.3</td>\n",
       "      <td>907961</td>\n",
       "      <td>8271.9</td>\n",
       "    </tr>\n",
       "  </tbody>\n",
       "</table>\n",
       "</div>"
      ],
      "text/plain": [
       "         date  sentiment    open    high     low  volume   close\n",
       "0  2019-05-26   0.231749  8029.6  8718.6  7866.5  872118  8647.8\n",
       "1  2019-05-27   0.147698  8628.9  8902.8  8607.3  907961  8271.9"
      ]
     },
     "execution_count": 63,
     "metadata": {},
     "output_type": "execute_result"
    }
   ],
   "source": [
    "close = data_bitcoin['close'][3:].tolist()\n",
    "\n",
    "min_date = data_posts['date'].min()\n",
    "max_date = data_posts['date'].max()\n",
    "\n",
    "data = data_bitcoin.copy()\n",
    "\n",
    "data = data[(data['date'] >= min_date) & (data['date'] <= max_date)]\n",
    "\n",
    "data.insert(loc=1, column='sentiment', value=data_posts['sentiment'])\n",
    "\n",
    "data['close'] = close\n",
    "\n",
    "data.reset_index(drop=True, inplace=True)\n",
    "\n",
    "data"
   ]
  },
  {
   "cell_type": "code",
   "execution_count": 64,
   "metadata": {},
   "outputs": [],
   "source": [
    "data.to_csv('../datasets/consolidated/consolidated.csv', index=False)"
   ]
  }
 ],
 "metadata": {
  "kernelspec": {
   "display_name": "Python 3.10.7 ('.venv': venv)",
   "language": "python",
   "name": "python3"
  },
  "language_info": {
   "codemirror_mode": {
    "name": "ipython",
    "version": 3
   },
   "file_extension": ".py",
   "mimetype": "text/x-python",
   "name": "python",
   "nbconvert_exporter": "python",
   "pygments_lexer": "ipython3",
   "version": "3.10.10"
  },
  "orig_nbformat": 4,
  "vscode": {
   "interpreter": {
    "hash": "01d01438f35385b0cde3f65c8b7d8a01384ac57097ee8f3132ed64c606a7f487"
   }
  }
 },
 "nbformat": 4,
 "nbformat_minor": 2
}
